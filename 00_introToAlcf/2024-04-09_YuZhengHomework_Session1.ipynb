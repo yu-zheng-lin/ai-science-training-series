{
 "cells": [
  {
   "cell_type": "markdown",
   "id": "1502b453-74d0-46eb-96d4-6f159383f670",
   "metadata": {},
   "source": [
    "# Here is my new homework"
   ]
  },
  {
   "cell_type": "code",
   "execution_count": 1,
   "id": "b3a8f9fd-b10c-482c-93c3-f4e2e6c39001",
   "metadata": {
    "tags": []
   },
   "outputs": [
    {
     "name": "stdout",
     "output_type": "stream",
     "text": [
      "Testing....\n"
     ]
    }
   ],
   "source": [
    "import os, sys\n",
    "\n",
    "print(\"Testing....\")"
   ]
  },
  {
   "cell_type": "code",
   "execution_count": null,
   "id": "c545722e-3997-465f-bc23-14669858b84a",
   "metadata": {},
   "outputs": [],
   "source": []
  }
 ],
 "metadata": {
  "kernelspec": {
   "display_name": "Python 3 (ipykernel)",
   "language": "python",
   "name": "python3"
  },
  "language_info": {
   "codemirror_mode": {
    "name": "ipython",
    "version": 3
   },
   "file_extension": ".py",
   "mimetype": "text/x-python",
   "name": "python",
   "nbconvert_exporter": "python",
   "pygments_lexer": "ipython3",
   "version": "3.10.9"
  }
 },
 "nbformat": 4,
 "nbformat_minor": 5
}
